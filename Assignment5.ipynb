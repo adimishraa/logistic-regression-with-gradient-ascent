{
 "cells": [
  {
   "cell_type": "code",
   "execution_count": 15,
   "metadata": {},
   "outputs": [],
   "source": [
    "import numpy as np\n",
    "import matplotlib.pyplot as plt"
   ]
  },
  {
   "cell_type": "code",
   "execution_count": 16,
   "metadata": {},
   "outputs": [],
   "source": [
    "def convertfile2data(filename):\n",
    "    with open(filename,'r') as fd:\n",
    "        lines=fd.readlines()\n",
    "    data=np.array([])\n",
    "    temp=np.array([])\n",
    "    for i,line in enumerate(lines):\n",
    "        temp=np.array(line.split(' ')[0:-1])\n",
    "        temp=np.reshape(temp,(-1,64))\n",
    "        if i==0:\n",
    "            data=np.array(temp)\n",
    "        else:\n",
    "            data=np.append(data,temp,axis=0)\n",
    "    \n",
    "    return data"
   ]
  },
  {
   "cell_type": "code",
   "execution_count": 17,
   "metadata": {},
   "outputs": [],
   "source": [
    "train3dat=convertfile2data('train3_oddYr.txt')\n",
    "train5dat=convertfile2data('train5_oddYr.txt')\n",
    "traindata=np.append(train3dat,train5dat,axis=0)"
   ]
  },
  {
   "cell_type": "code",
   "execution_count": 18,
   "metadata": {},
   "outputs": [],
   "source": [
    "def sigmoid(z):\n",
    "    return 1/(1+np.e**(-z))"
   ]
  },
  {
   "cell_type": "code",
   "execution_count": 19,
   "metadata": {},
   "outputs": [],
   "source": [
    "def loglikelihood(w,x,y):\n",
    "    w=w.astype(float)\n",
    "    x=x.astype(float)\n",
    "    si=sigmoid(np.dot(x,w.T))\n",
    "    ll=np.sum(y*np.log(si)+(1-y)*np.log(1-si))\n",
    "    ldel=np.sum(x*(y-si),axis=0)\n",
    "    return ll,ldel"
   ]
  },
  {
   "cell_type": "code",
   "execution_count": 20,
   "metadata": {},
   "outputs": [],
   "source": [
    "def error_rate(w,x,y):\n",
    "    w=w.astype(float)\n",
    "    x=x.astype(float)\n",
    "    error=[0 if x==y else 1 for x,y in zip(list(np.round(sigmoid(np.dot(x,w.T)))),y)]\n",
    "    return round((sum(error)/np.shape(x)[0])*100,3)"
   ]
  },
  {
   "cell_type": "code",
   "execution_count": 33,
   "metadata": {},
   "outputs": [],
   "source": [
    "def grad_descent(w,x,y,eta):\n",
    "    wold=w\n",
    "    llhood=[]\n",
    "    erate=[]\n",
    "   # while(np.linalg.norm(ldel))>0.01:\n",
    "    for i in range(0,2000):\n",
    "        ll,ldel=loglikelihood(wold,x,y)\n",
    "        error=error_rate(wold,x,y)\n",
    "        erate.append(error)\n",
    "        llhood.append(ll)\n",
    "        wnew=wold+eta*ldel\n",
    "        wold=wnew\n",
    "        #print(i)\n",
    "    return llhood,wold,erate"
   ]
  },
  {
   "cell_type": "code",
   "execution_count": 34,
   "metadata": {},
   "outputs": [],
   "source": [
    "w=np.zeros([1,64])\n",
    "eta=0.2/np.shape(traindata)[0]\n",
    "y=np.reshape(np.array([0 if i<=699 else 1 for i in range(0,1400)]),(1400,-1))\n",
    "llhood,w,erate=grad_descent(w,traindata,y,eta)"
   ]
  },
  {
   "cell_type": "code",
   "execution_count": 35,
   "metadata": {},
   "outputs": [
    {
     "data": {
      "image/png": "[encoded data removed]",
      "text/plain": [
       "<Figure size 432x288 with 1 Axes>"
      ]
     },
     "metadata": {
      "needs_background": "light"
     },
     "output_type": "display_data"
    },
    {
     "data": {
      "image/png": "[encoded data removed]",
      "text/plain": [
       "<Figure size 432x288 with 1 Axes>"
      ]
     },
     "metadata": {
      "needs_background": "light"
     },
     "output_type": "display_data"
    }
   ],
   "source": [
    "plt.figure(1)\n",
    "plt.plot(llhood)\n",
    "plt.xlabel('No. of Iterations')\n",
    "plt.ylabel('Loglikelihood [log(Pdata)]')\n",
    "plt.title('Loglikelihood Plot')\n",
    "plt.savefig('Loglikelihood.png')\n",
    "plt.figure(2)\n",
    "plt.plot(erate)\n",
    "plt.xlabel('No. of Iterations')\n",
    "plt.ylabel('Error rate [%]')\n",
    "plt.title('Error Rate Plot')\n",
    "plt.savefig('error_rate.png')"
   ]
  },
  {
   "cell_type": "code",
   "execution_count": 36,
   "metadata": {},
   "outputs": [
    {
     "name": "stdout",
     "output_type": "stream",
     "text": [
      "[[-0.78829559 -1.08978442 -1.04093532 -0.91377207 -0.79768045 -0.44362769\n",
      "   0.85194951  1.48686387]\n",
      " [ 0.13741698  0.02981593  0.10751714 -0.03588487 -0.11677556  0.46711848\n",
      "  -0.91087728 -1.10890113]\n",
      " [ 2.2393945   1.3207593   1.15686483  0.34080243  0.35667478 -1.50558782\n",
      "  -2.28270332 -2.02959089]\n",
      " [ 0.76859539  0.5244599   0.36446257 -0.21202306 -0.53243373 -1.57357102\n",
      "   0.13693993 -0.07169041]\n",
      " [ 0.3856428   0.77742726  0.0357335  -0.20111146 -0.5527803  -0.34695774\n",
      "  -0.19503798 -0.38856119]\n",
      " [ 0.90398187 -0.11591534 -0.23271221  0.07112415  0.17096441 -0.47832063\n",
      "   0.50989384 -1.02806674]\n",
      " [ 1.0742128  -0.3546628   1.01551894  0.43598235  0.27033155 -0.14254485\n",
      "   0.2692722  -0.78985823]\n",
      " [ 0.34352178  0.25309615  0.68522926  1.01661187  0.39471176  0.57245061\n",
      "   0.22384679 -0.34276892]]\n"
     ]
    }
   ],
   "source": [
    "print(np.reshape(w,(8,-1)))"
   ]
  },
  {
   "cell_type": "code",
   "execution_count": 37,
   "metadata": {},
   "outputs": [
    {
     "name": "stdout",
     "output_type": "stream",
     "text": [
      "Error rate on Training data of no.3: 4.0%\n",
      "Error rate on Training data of no.5: 4.0%\n",
      "Error rate on combined Training data: 4.0%\n"
     ]
    }
   ],
   "source": [
    "y=[0 for i in range(0,700)]\n",
    "print('Error rate on Training data of no.3: '+str(error_rate(w,train3dat,y))+'%')\n",
    "y=[1 for i in range(0,700)]\n",
    "print('Error rate on Training data of no.5: '+str(error_rate(w,train5dat,y))+'%')\n",
    "y=[0 if i<=699 else 1 for i in range(0,1400)]\n",
    "print('Error rate on combined Training data: '+str(error_rate(w,traindata,y))+'%')\n"
   ]
  },
  {
   "cell_type": "code",
   "execution_count": 38,
   "metadata": {},
   "outputs": [],
   "source": [
    "test3dat=convertfile2data('test3_oddYr.txt')\n",
    "test5dat=convertfile2data('test5_oddYr.txt')\n",
    "testdata=np.append(test3dat,test5dat,axis=0)"
   ]
  },
  {
   "cell_type": "code",
   "execution_count": 39,
   "metadata": {},
   "outputs": [
    {
     "name": "stdout",
     "output_type": "stream",
     "text": [
      "Error rate on Testing data of no.3: 5.5%\n",
      "Error rate on Testing data of no.5: 4.5%\n",
      "Error rate on combined Testing data: 5.0%\n"
     ]
    }
   ],
   "source": [
    "y=[0 for i in range(0,400)]\n",
    "print('Error rate on Testing data of no.3: '+str(error_rate(w,test3dat,y))+'%')\n",
    "y=[1 for i in range(0,400)]\n",
    "print('Error rate on Testing data of no.5: '+str(error_rate(w,test5dat,y))+'%')\n",
    "y=[0 if i<=399 else 1 for i in range(0,800)]\n",
    "print('Error rate on combined Testing data: '+str(error_rate(w,testdata,y))+'%')"
   ]
  },
  {
   "cell_type": "code",
   "execution_count": null,
   "metadata": {},
   "outputs": [],
   "source": []
  }
 ],
 "metadata": {
  "kernelspec": {
   "display_name": "Python 3",
   "language": "python",
   "name": "python3"
  },
  "language_info": {
   "codemirror_mode": {
    "name": "ipython",
    "version": 3
   },
   "file_extension": ".py",
   "mimetype": "text/x-python",
   "name": "python",
   "nbconvert_exporter": "python",
   "pygments_lexer": "ipython3",
   "version": "3.7.3"
  }
 },
 "nbformat": 4,
 "nbformat_minor": 2
}
